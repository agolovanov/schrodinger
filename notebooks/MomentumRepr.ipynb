{
 "cells": [
  {
   "cell_type": "code",
   "execution_count": null,
   "metadata": {},
   "outputs": [],
   "source": [
    "%matplotlib inline"
   ]
  },
  {
   "cell_type": "code",
   "execution_count": null,
   "metadata": {},
   "outputs": [],
   "source": [
    "import numpy as np\n",
    "import matplotlib.pyplot as plt\n",
    "from matplotlib import animation\n",
    "from IPython.display import HTML\n",
    "import sys\n",
    "sys.path.append('..')\n",
    "import solver\n",
    "import potential\n",
    "import wavefunction"
   ]
  },
  {
   "cell_type": "code",
   "execution_count": null,
   "metadata": {},
   "outputs": [],
   "source": [
    "def gauss(x, x0, sigma):\n",
    "    return (2 / np.pi / sigma ** 2) ** 0.25 * np.exp(- (x - x0) ** 2 / sigma ** 2) + 0.0j"
   ]
  },
  {
   "cell_type": "code",
   "execution_count": null,
   "metadata": {},
   "outputs": [],
   "source": [
    "x = np.linspace(-100, 100, 10000)\n",
    "sigma = 3.0\n",
    "x0 = -5.0\n",
    "psi = gauss(x, x0, sigma)"
   ]
  },
  {
   "cell_type": "code",
   "execution_count": null,
   "metadata": {},
   "outputs": [],
   "source": [
    "plt.plot(x, np.real(psi))\n",
    "plt.xlim(x0-3*sigma,x0+3*sigma)"
   ]
  },
  {
   "cell_type": "code",
   "execution_count": null,
   "metadata": {},
   "outputs": [],
   "source": [
    "p, psi_p = wavefunction.momentum_representation(x, psi)\n",
    "psi_p_expected = gauss(p, 0.0, 2 / sigma) * np.exp(-1j * x0 * p)"
   ]
  },
  {
   "cell_type": "code",
   "execution_count": null,
   "metadata": {},
   "outputs": [],
   "source": [
    "fig, ax = plt.subplots(ncols=2, constrained_layout=True)\n",
    "ax[0].plot(p, np.real(psi_p))\n",
    "ax[0].plot(p, np.real(psi_p_expected))\n",
    "ax[0].set_xlim(-8/sigma, 8/sigma)\n",
    "ax[1].plot(p, np.imag(psi_p))\n",
    "ax[1].plot(p, np.imag(psi_p_expected))\n",
    "ax[1].set_xlim(-8/sigma, 8/sigma)"
   ]
  }
 ],
 "metadata": {
  "kernelspec": {
   "display_name": "Python 3",
   "language": "python",
   "name": "python3"
  },
  "language_info": {
   "codemirror_mode": {
    "name": "ipython",
    "version": 3
   },
   "file_extension": ".py",
   "mimetype": "text/x-python",
   "name": "python",
   "nbconvert_exporter": "python",
   "pygments_lexer": "ipython3",
   "version": "3.6.4"
  }
 },
 "nbformat": 4,
 "nbformat_minor": 2
}
