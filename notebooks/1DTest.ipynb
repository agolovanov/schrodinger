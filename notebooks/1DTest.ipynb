{
 "cells": [
  {
   "cell_type": "code",
   "execution_count": null,
   "metadata": {},
   "outputs": [],
   "source": [
    "%matplotlib inline"
   ]
  },
  {
   "cell_type": "code",
   "execution_count": null,
   "metadata": {},
   "outputs": [],
   "source": [
    "import numpy as np\n",
    "import matplotlib.pyplot as plt\n",
    "from matplotlib import animation\n",
    "from IPython.display import HTML\n",
    "import numba\n",
    "import sys\n",
    "sys.path.append('..')\n",
    "import solver\n",
    "import potential"
   ]
  },
  {
   "cell_type": "code",
   "execution_count": null,
   "metadata": {},
   "outputs": [],
   "source": [
    "%load_ext autoreload\n",
    "%autoreload 2"
   ]
  },
  {
   "cell_type": "code",
   "execution_count": null,
   "metadata": {},
   "outputs": [],
   "source": [
    "d = 1.0\n",
    "v = potential.DeltaPotential(d)\n",
    "psi0 = v.get_eigenfunction()\n",
    "e0 = v.get_eigenenergy()\n",
    "tmax = - np.pi / e0\n",
    "dt  = tmax/ 400000\n",
    "\n",
    "s = solver.EulerSolver(10 / d, 0.1 / d, dt, v)\n",
    "ts, psis = s.execute(tmax, psi0=psi0, output_dt=tmax/60)\n",
    "psi0_value = psi0(s.x)"
   ]
  },
  {
   "cell_type": "code",
   "execution_count": null,
   "metadata": {},
   "outputs": [],
   "source": [
    "psi = psis[-1]"
   ]
  },
  {
   "cell_type": "code",
   "execution_count": null,
   "metadata": {},
   "outputs": [],
   "source": [
    "plt.plot(s.x, np.real(psi0(s.x)))\n",
    "plt.plot(s.x, np.real(psi))"
   ]
  },
  {
   "cell_type": "code",
   "execution_count": null,
   "metadata": {},
   "outputs": [],
   "source": [
    "plt.plot(s.x, np.imag(psi0(s.x)))\n",
    "plt.plot(s.x, np.imag(psi))"
   ]
  },
  {
   "cell_type": "code",
   "execution_count": null,
   "metadata": {},
   "outputs": [],
   "source": [
    "%%capture\n",
    "\n",
    "def plot(i):\n",
    "    plt.clf()\n",
    "    plt.plot(s.x, np.real(psis[i]))\n",
    "    plt.plot(s.x, np.imag(psis[i]))\n",
    "    plt.ylim(-1.1, 1.1)\n",
    "    \n",
    "fig = plt.figure()\n",
    "anim = animation.FuncAnimation(fig, plot, frames=len(psis), interval=20).to_html5_video()"
   ]
  },
  {
   "cell_type": "code",
   "execution_count": null,
   "metadata": {},
   "outputs": [],
   "source": [
    "HTML(anim)"
   ]
  },
  {
   "cell_type": "code",
   "execution_count": null,
   "metadata": {},
   "outputs": [],
   "source": [
    "%%capture\n",
    "\n",
    "def plot(i):\n",
    "    plt.clf()\n",
    "    plt.plot(s.x, np.abs(psis[i]))\n",
    "    plt.ylim(-1.1, 1.1)\n",
    "    \n",
    "fig = plt.figure()\n",
    "anim = animation.FuncAnimation(fig, plot, frames=len(psis), interval=20).to_html5_video()"
   ]
  },
  {
   "cell_type": "code",
   "execution_count": null,
   "metadata": {},
   "outputs": [],
   "source": [
    "HTML(anim)"
   ]
  },
  {
   "cell_type": "code",
   "execution_count": null,
   "metadata": {},
   "outputs": [],
   "source": [
    "import wavefunction"
   ]
  },
  {
   "cell_type": "code",
   "execution_count": null,
   "metadata": {},
   "outputs": [],
   "source": [
    "for psi in psis:\n",
    "    print(wavefunction.norm(s.x, psi))"
   ]
  },
  {
   "cell_type": "code",
   "execution_count": null,
   "metadata": {},
   "outputs": [],
   "source": [
    "d = 1.0\n",
    "v = potential.DeltaPotential(d)\n",
    "psi0 = v.get_eigenfunction()\n",
    "e0 = v.get_eigenenergy()\n",
    "tmax = - np.pi / e0\n",
    "dt  = tmax / 400000\n",
    "\n",
    "s = solver.CrankNicolsonSolver(10 / d, 0.1 / d, tmax / 4000, potential=v)\n",
    "s2 = solver.EulerSolver(10 / d, 0.1 / d, dt, potential=v)"
   ]
  },
  {
   "cell_type": "code",
   "execution_count": null,
   "metadata": {},
   "outputs": [],
   "source": [
    "ts, psis = s.execute(tmax, output_dt=tmax/60, psi0=psi0)\n",
    "ts2, psis2 = s2.execute(tmax, output_dt=tmax/60, psi0=psi0)"
   ]
  },
  {
   "cell_type": "code",
   "execution_count": null,
   "metadata": {},
   "outputs": [],
   "source": [
    "%%capture\n",
    "\n",
    "def plot(i):\n",
    "    plt.clf()\n",
    "    plt.plot(s.x, np.real(psis[i]))\n",
    "    plt.plot(s.x, np.real(psis2[i]))\n",
    "    plt.ylim(-1.1, 1.1)\n",
    "    \n",
    "fig = plt.figure()\n",
    "anim = animation.FuncAnimation(fig, plot, frames=len(psis), interval=20).to_html5_video()"
   ]
  },
  {
   "cell_type": "code",
   "execution_count": null,
   "metadata": {},
   "outputs": [],
   "source": [
    "HTML(anim)"
   ]
  },
  {
   "cell_type": "code",
   "execution_count": null,
   "metadata": {},
   "outputs": [],
   "source": [
    "%%capture\n",
    "\n",
    "def plot(i):\n",
    "    plt.clf()\n",
    "    plt.plot(s.x, np.imag(psis[i]))\n",
    "    plt.plot(s.x, np.imag(psis2[i]))\n",
    "    plt.ylim(-1.1, 1.1)\n",
    "    \n",
    "fig = plt.figure()\n",
    "anim = animation.FuncAnimation(fig, plot, frames=len(psis), interval=20).to_html5_video()"
   ]
  },
  {
   "cell_type": "code",
   "execution_count": null,
   "metadata": {},
   "outputs": [],
   "source": [
    "HTML(anim)"
   ]
  },
  {
   "cell_type": "code",
   "execution_count": null,
   "metadata": {},
   "outputs": [],
   "source": [
    "%timeit ts, psis = s.execute(tmax, psi0=psi0, output_dt=tmax/10)\n",
    "%timeit ts2, psis2 = s2.execute(tmax, psi0=psi0, output_dt=tmax/10)"
   ]
  },
  {
   "cell_type": "code",
   "execution_count": null,
   "metadata": {},
   "outputs": [],
   "source": []
  }
 ],
 "metadata": {
  "kernelspec": {
   "display_name": "Python 3",
   "language": "python",
   "name": "python3"
  },
  "language_info": {
   "codemirror_mode": {
    "name": "ipython",
    "version": 3
   },
   "file_extension": ".py",
   "mimetype": "text/x-python",
   "name": "python",
   "nbconvert_exporter": "python",
   "pygments_lexer": "ipython3",
   "version": "3.6.4"
  }
 },
 "nbformat": 4,
 "nbformat_minor": 2
}
