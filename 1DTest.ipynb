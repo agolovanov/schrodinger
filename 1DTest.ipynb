{
 "cells": [
  {
   "cell_type": "code",
   "execution_count": null,
   "metadata": {},
   "outputs": [],
   "source": [
    "%matplotlib inline"
   ]
  },
  {
   "cell_type": "code",
   "execution_count": null,
   "metadata": {},
   "outputs": [],
   "source": [
    "import numpy as np\n",
    "import matplotlib.pyplot as plt\n",
    "from matplotlib import animation\n",
    "from IPython.display import HTML\n",
    "import numba"
   ]
  },
  {
   "cell_type": "code",
   "execution_count": null,
   "metadata": {},
   "outputs": [],
   "source": [
    "x_max = 20\n",
    "dx = 0.1\n",
    "n_points = (int) ((2 * x_max) / dx) + 1\n",
    "if n_points % 2 == 0:\n",
    "    n_points += 1"
   ]
  },
  {
   "cell_type": "code",
   "execution_count": null,
   "metadata": {},
   "outputs": [],
   "source": [
    "x = np.linspace(- (n_points // 2) * dx, (n_points // 2) * dx, n_points)"
   ]
  },
  {
   "cell_type": "code",
   "execution_count": null,
   "metadata": {},
   "outputs": [],
   "source": [
    "kappa = 1 \n",
    "psi0 = np.vectorize(lambda x: np.sqrt(kappa) * np.exp(kappa * x) + 0j if x < 0 else np.sqrt(kappa) * np.exp(- kappa * x) + 0j)(x)"
   ]
  },
  {
   "cell_type": "code",
   "execution_count": null,
   "metadata": {},
   "outputs": [],
   "source": [
    "plt.plot(x, np.real(psi0))"
   ]
  },
  {
   "cell_type": "code",
   "execution_count": null,
   "metadata": {},
   "outputs": [],
   "source": [
    "@numba.jit(nopython=True)\n",
    "def iterate(psi, dt):\n",
    "    dpsi = np.zeros(psi.shape, dtype=psi.dtype)\n",
    "    dpsi[0] = 0.5 * 1j * (psi[1] + psi[-1] - 2 * psi[0]) / dx ** 2\n",
    "    dpsi[-1] = 0.5 * 1j * (psi[0] + psi[-2] - 2 * psi[-1]) / dx ** 2\n",
    "    center = n_points // 2\n",
    "    for i in range(1, n_points-1):\n",
    "        dpsi[i] = 0.5 * 1j * (psi[i+1] + psi[i-1] - 2 * psi[i]) / dx ** 2\n",
    "    for i in range(n_points):\n",
    "        psi[i] += dpsi[i] * dt\n",
    "    #psi[center] = (psi[center-1] + psi[center+1]) / (2 - 2 * kappa * dx)"
   ]
  },
  {
   "cell_type": "code",
   "execution_count": null,
   "metadata": {},
   "outputs": [],
   "source": [
    "output_dt = 0.05\n",
    "\n",
    "psi = psi0.copy()\n",
    "dt = 0.00001\n",
    "save_every = int(output_dt / dt)\n",
    "t_end = 2 * np.pi\n",
    "points = (int) (t_end / dt) + 1\n",
    "\n",
    "psis = []\n",
    "ts = []\n",
    "for i in range(points):\n",
    "    if i % save_every == 0:\n",
    "        psis.append(psi.copy())\n",
    "        ts.append(i * dt)\n",
    "    iterate(psi, dt)"
   ]
  },
  {
   "cell_type": "code",
   "execution_count": null,
   "metadata": {},
   "outputs": [],
   "source": [
    "%%capture\n",
    "\n",
    "def plot(i):\n",
    "    plt.clf()\n",
    "    plt.plot(x, np.real(psis[i]))\n",
    "    plt.plot(x, np.imag(psis[i]))\n",
    "    plt.ylim(-1.1, 1.1)\n",
    "    \n",
    "fig = plt.figure()\n",
    "anim = animation.FuncAnimation(fig, plot, frames=len(psis), interval=20).to_html5_video()"
   ]
  },
  {
   "cell_type": "code",
   "execution_count": null,
   "metadata": {},
   "outputs": [],
   "source": [
    "HTML(anim)"
   ]
  },
  {
   "cell_type": "code",
   "execution_count": null,
   "metadata": {},
   "outputs": [],
   "source": [
    "%%capture\n",
    "\n",
    "def plot(i):\n",
    "    plt.clf()\n",
    "    plt.plot(x, np.abs(psis[i]))\n",
    "    plt.ylim(-1.1, 1.1)\n",
    "    \n",
    "fig = plt.figure()\n",
    "anim = animation.FuncAnimation(fig, plot, frames=len(psis), interval=20).to_html5_video()"
   ]
  },
  {
   "cell_type": "code",
   "execution_count": null,
   "metadata": {},
   "outputs": [],
   "source": [
    "HTML(anim)"
   ]
  },
  {
   "cell_type": "code",
   "execution_count": null,
   "metadata": {},
   "outputs": [],
   "source": [
    "norms = [dx * np.sum(np.abs(psi) ** 2) for psi in psis]\n",
    "plt.plot(ts, norms)"
   ]
  },
  {
   "cell_type": "code",
   "execution_count": null,
   "metadata": {},
   "outputs": [],
   "source": [
    "import solver"
   ]
  },
  {
   "cell_type": "code",
   "execution_count": null,
   "metadata": {},
   "outputs": [],
   "source": [
    "e = solver.EulerSolverDelta(10, 0.1, delta_depth=1.0)"
   ]
  },
  {
   "cell_type": "code",
   "execution_count": null,
   "metadata": {},
   "outputs": [],
   "source": [
    "%load_ext autoreload"
   ]
  },
  {
   "cell_type": "code",
   "execution_count": null,
   "metadata": {},
   "outputs": [],
   "source": [
    "%autoreload 2"
   ]
  },
  {
   "cell_type": "code",
   "execution_count": null,
   "metadata": {},
   "outputs": [],
   "source": [
    "ts, psis = e.execute(2 * np.pi, 0.0005, 0.05)"
   ]
  },
  {
   "cell_type": "code",
   "execution_count": null,
   "metadata": {},
   "outputs": [],
   "source": [
    "%%capture\n",
    "\n",
    "def plot(i):\n",
    "    plt.clf()\n",
    "    plt.plot(e.x, np.abs(psis[i]))\n",
    "    plt.ylim(-1.1, 1.1)\n",
    "    \n",
    "fig = plt.figure()\n",
    "anim = animation.FuncAnimation(fig, plot, frames=len(psis), interval=20).to_html5_video()"
   ]
  },
  {
   "cell_type": "code",
   "execution_count": null,
   "metadata": {},
   "outputs": [],
   "source": [
    "HTML(anim)"
   ]
  },
  {
   "cell_type": "code",
   "execution_count": null,
   "metadata": {},
   "outputs": [],
   "source": []
  }
 ],
 "metadata": {
  "kernelspec": {
   "display_name": "Python 3",
   "language": "python",
   "name": "python3"
  },
  "language_info": {
   "codemirror_mode": {
    "name": "ipython",
    "version": 3
   },
   "file_extension": ".py",
   "mimetype": "text/x-python",
   "name": "python",
   "nbconvert_exporter": "python",
   "pygments_lexer": "ipython3",
   "version": "3.6.4"
  }
 },
 "nbformat": 4,
 "nbformat_minor": 2
}
